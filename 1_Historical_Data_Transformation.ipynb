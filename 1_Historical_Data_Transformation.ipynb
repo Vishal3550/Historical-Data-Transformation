{
  "nbformat": 4,
  "nbformat_minor": 0,
  "metadata": {
    "colab": {
      "provenance": []
    },
    "kernelspec": {
      "name": "python3",
      "display_name": "Python 3"
    },
    "language_info": {
      "name": "python"
    }
  },
  "cells": [
    {
      "cell_type": "code",
      "execution_count": 1,
      "metadata": {
        "id": "Y5iBHu9x0FTM"
      },
      "outputs": [],
      "source": [
        "import pandas as pd"
      ]
    },
    {
      "cell_type": "code",
      "source": [
        "# Read input CSV file\n",
        "input_file = '/content/drive/MyDrive/Colab Notebooks/input.csv'\n",
        "df = pd.read_csv(input_file)"
      ],
      "metadata": {
        "id": "9WaHcOyA0eae"
      },
      "execution_count": 11,
      "outputs": []
    },
    {
      "cell_type": "code",
      "source": [
        "# Sort data by employee ID and effective date\n",
        "df['Date of Joining'] = pd.to_datetime(df['Date of Joining'])\n",
        "df =df.sort_values(by=['Employee Code','Date of Joining'])"
      ],
      "metadata": {
        "id": "tzpt_vPu2Hwa"
      },
      "execution_count": 14,
      "outputs": []
    },
    {
      "cell_type": "code",
      "source": [
        "# Add End Date column\n",
        "df['Date of Exit'] = df.groupby('Employee Code')['Date of Joining'].shift(-1) - pd.Timedelta(days=1)\n",
        "df['Date of Exit'] = df['Date of Exit'].fillna(pd.Timestamp('2100-01-01'))"
      ],
      "metadata": {
        "id": "KQ3HfVsk2MZx"
      },
      "execution_count": 15,
      "outputs": []
    },
    {
      "cell_type": "code",
      "source": [
        "# Forward fill missing values\n",
        "df.fillna(method='ffill', inplace=True)"
      ],
      "metadata": {
        "id": "cu9S0y1q2McC"
      },
      "execution_count": 19,
      "outputs": []
    },
    {
      "cell_type": "code",
      "source": [
        "# Drop duplicated rows\n",
        "df.drop_duplicates(inplace=True)"
      ],
      "metadata": {
        "id": "8QpMVV1n2MeR"
      },
      "execution_count": 18,
      "outputs": []
    },
    {
      "cell_type": "code",
      "source": [
        "# Reorder columns\n",
        "df = df[['Employee Code', 'Date of Joining', 'Date of Exit', 'Compensation', 'Review 1', 'Engagement 1']]"
      ],
      "metadata": {
        "id": "BVlOvsBn2Mhv"
      },
      "execution_count": 16,
      "outputs": []
    },
    {
      "cell_type": "code",
      "source": [
        "# Save the transformed data to a new CSV file\n",
        "output_file = 'historical_employee_data.csv'\n",
        "df.to_csv(output_file, index=False)"
      ],
      "metadata": {
        "id": "l1KXko5p2b_M"
      },
      "execution_count": 17,
      "outputs": []
    },
    {
      "cell_type": "code",
      "source": [
        "print(\"Transformation completed. Output saved to:\", output_file)"
      ],
      "metadata": {
        "colab": {
          "base_uri": "https://localhost:8080/"
        },
        "id": "RYSFokDQ2cEd",
        "outputId": "86cd9546-3a53-4103-e2af-565ad3a0cb9c"
      },
      "execution_count": 20,
      "outputs": [
        {
          "output_type": "stream",
          "name": "stdout",
          "text": [
            "Transformation completed. Output saved to: historical_employee_data.csv\n"
          ]
        }
      ]
    },
    {
      "cell_type": "code",
      "source": [],
      "metadata": {
        "id": "Cc-nUMnX2cSM"
      },
      "execution_count": null,
      "outputs": []
    },
    {
      "cell_type": "code",
      "source": [],
      "metadata": {
        "id": "nNiWIxsD2cfg"
      },
      "execution_count": null,
      "outputs": []
    }
  ]
}